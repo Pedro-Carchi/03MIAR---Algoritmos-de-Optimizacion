{
  "nbformat": 4,
  "nbformat_minor": 0,
  "metadata": {
    "colab": {
      "provenance": [],
      "include_colab_link": true
    },
    "kernelspec": {
      "name": "python3",
      "display_name": "Python 3"
    }
  },
  "cells": [
    {
      "cell_type": "markdown",
      "metadata": {
        "id": "view-in-github",
        "colab_type": "text"
      },
      "source": [
        "<a href=\"https://colab.research.google.com/github/Pedro-Carchi/03MIAR---Algoritmos-de-Optimizacion/blob/main/Trabajo_Pr%C3%A1ctico_Algoritmos_Pedro_Carchi.ipynb\" target=\"_parent\"><img src=\"https://colab.research.google.com/assets/colab-badge.svg\" alt=\"Open In Colab\"/></a>"
      ]
    },
    {
      "cell_type": "markdown",
      "metadata": {
        "id": "hVbXYX-RfPWh"
      },
      "source": [
        "# Algoritmos de optimización - Trabajo Práctico<br>\n",
        "Nombre y Apellidos: Pedro Javier Carchi Villalta  <br>\n",
        "Url: https://github.com/Pedro-Carchi/03MIAR---Algoritmos-de-Optimizacion <br>\n",
        "Google Colab: https://colab.research.google.com/drive/1t6WQBvOYCgkX7DGzXpxuequrdzF95o-9 <br>\n",
        "Problema:\n",
        ">1. Sesiones de doblaje <br>\n",
        ">2. Organizar los horarios de partidos de una jornada de La Liga<br>\n",
        ">3. Configuración de Tribunales\n",
        "\n",
        "Descripción del problema 2 - Organizar los horarios de partidos de una jornada de La Liga:\n",
        "\n",
        "Desde la La Liga de fútbol profesional se pretende organizar los horarios de los partidos de liga de cada jornada. Se conocen algunos datos que nos deben llevar a diseñar un algoritmo que realice la asignación de los partidos a los horarios de forma que maximice la audiencia.\n",
        "\n",
        "\n",
        "| Día | Horas    |\n",
        "|--------|------|\n",
        "| Viernes    | 20    |\n",
        "| Sabado    | 12, 16, 18, 20 |\n",
        "| Domingo  | 12, 16, 18, 20  |\n",
        "| Lunes   | 20   |\n",
        "\n",
        "\n",
        "En primer lugar se clasifican los equipos en tres categorías según el numero de seguidores( que tiene relación directa con la audiencia). Hay 3 equipos en la categoría A, 11 equipos de categoría B y 6 equipos de categoría C.\n",
        "\n",
        "Se conoce estadísticamente la audiencia que genera cada partido según los equipos que se enfrentan y en horario de sábado a las 20h (el mejor en todos los casos)\n",
        "\n",
        "|  | Categoría A | Categoría B    | Categoría C   |\n",
        "|--------|------|-----------|-----------|\n",
        "| Categoría A   | 2 Millones   | 1.3 Millones    | 1 Millones    |\n",
        "| Categoría B   |    | 0.9 Millones | 0.75 Millones |\n",
        "| Categoría C   |    |   | 0.47 Millones  |\n",
        "\n",
        "\n",
        "\n",
        "Si el horario del partido no se realiza a las 20 horas del sábado se sabe que se reduce según los coeficientes de la siguiente tabla\n",
        "\n",
        "| Hora | Viernes | Sábado | Domingo | Lunes |\n",
        "|------|---------|--------|---------|-------|\n",
        "| 12h  |  -      |    0.55    |  0.45   | -  |\n",
        "| 16h  |  -      |     0.7   |  0.75   | -  |\n",
        "| 18h  |     -   |     0.8   |  0.85   | -  |\n",
        "| 20h  |   0.4   |     1   |  1   | 0.40  |\n",
        "\n",
        "\n",
        "Es posible la coincidencia de horarios pero en este caso la audiencia de cada partido se verá afectada y se estima que se reduce en porcentaje según la siguiente tabla dependiendo del número de coincidencias:\n",
        "\n",
        "| Coincidencias | -%   |\n",
        "|---------------|------|\n",
        "|      0         |   0%   |\n",
        "|      1         |   25%   |\n",
        "|      2         |   45%   |\n",
        "|      3         |   60%   |\n",
        "|      4         |   70%   |\n",
        "|      5         |   75%   |\n",
        "|      6         |   78%   |\n",
        "|      7         |   80%   |\n",
        "|      8         |   80%   |\n",
        "\n",
        "                                        "
      ]
    },
    {
      "cell_type": "markdown",
      "source": [
        "#Modelo\n",
        "- ¿Como represento el espacio de soluciones?\n",
        "- ¿Cual es la función objetivo?\n",
        "- ¿Como implemento las restricciones?"
      ],
      "metadata": {
        "id": "Sbo9IqQtpaHZ"
      }
    },
    {
      "cell_type": "markdown",
      "source": [
        "El problema nos proporciona una jornada de Liga en específico, por lo que la audiencia base de la que partimos es fija. Dependiendo de la hora a la que asignemos el partido (y de si existe otro partido en ese mismo horario) habrá que multiplicar esa audiencia base por un factor de ponderación.\n",
        "\n",
        "\n",
        "El espacio de soluciones lo podemos representar mediante un vector, cuyo elemento $i$-ésimo corresponde a la hora asignada al partido $i$. Así por ejemplo una posiblle solución es:\n",
        "$$\n",
        "[0, 1, 2, 3, 4, 6, 6, 7, 8, 9]\n",
        "$$\n",
        "Que significa:\n",
        "- al partido 0 se asigna el horario 0\n",
        "- al partido 1 se asigna el horario 1\n",
        "- al partido 2 se asigna el horario 2\n",
        "- al partido 3 se asigna el horario 3\n",
        "- al partido 4 se asigna el horario 4\n",
        "- al partido 5 se asigna el horario 6\n",
        "- al partido 6 se asigna el horario 6\n",
        "- al partido 7 se asigna el horario 7\n",
        "- al partido 8 se asigna el horario 8\n",
        "- al partido 9 se asigna el horario 9\n",
        "\n",
        "\n",
        "La función objetivo se puede expresenar cómo\n",
        "\n",
        "$$\n",
        "f = ∑_i A_{i,j}*p_k\n",
        "$$\n",
        "con $A_{i,j} = a_i * b_j$, donde $a_i$ es la audiencia base correspondiente al partido $i$, $b_j$ es la ponderación a aplicar debido al asignar el partido al horario $j$, y $p_k$ es la ponderación a aplicar en caso de que existe alguna coincidencia.\n"
      ],
      "metadata": {
        "id": "aSyXoTEPe-rD"
      }
    },
    {
      "cell_type": "markdown",
      "source": [
        "#Análisis\n",
        "- ¿Que complejidad tiene el problema?. Orden de complejidad y Contabilizar el espacio de soluciones"
      ],
      "metadata": {
        "id": "HZz52wOppp-U"
      }
    },
    {
      "cell_type": "markdown",
      "source": [
        "En caso de que no se pudiesen repetir horarios, en total habrían $10! \\sim 3.6$ millones combinaciones posibles en el espacio de soluciones.\n",
        "\n",
        "Si consideramos que cada hora se puede repetir, entonces se trata de un problema de asignación con repetición, lo que se traduce en un total de $10^{10} =  10$ mil millones de combinaciones.\n",
        "\n",
        "Por tanto, el orden de compejidad del problema es $n!$ en el mejor de los casos. Por lo que resolverlo por el método de fuerza bruta no es viable para $n$ grandes."
      ],
      "metadata": {
        "id": "AZsap2TxjhHv"
      }
    },
    {
      "cell_type": "markdown",
      "source": [
        "#Diseño\n",
        "- ¿Que técnica utilizo? ¿Por qué?"
      ],
      "metadata": {
        "id": "ixEJUwH_pv7M"
      }
    },
    {
      "cell_type": "markdown",
      "source": [
        "El problema descrito es muy similar al problema de devolución de cambio, comentado en clase. Por tanto, seguiremos la misma estrategia para resolverlo, es decir un algoritmo voraz.\n",
        "\n",
        "Un __aspecto fundamental__ a la hora de aplicar este algortimo es tener en cuenta que primero debemos asignar los __partidos con mayor audiencia__ y dejaremos para el final los partidos con menor audiencia. De esta manera nos aseguramos que maximizamos la audiencia.  \n",
        "\n",
        "\n",
        "El algoritmo consistirá básicamente en lo siguiente:\n",
        "\n",
        "- ordenar los partidos de la jornada en orden de audiencia, de mayor a menor.\n",
        "\n",
        "- asignar al partido $i$-ésimo con mayor audiencia, todas las horas disponibles y evaluar la audiencia total, teniendo en cuenta posibles repeticiones.\n",
        "\n",
        "- nos quedaremos con aquella hora que nos produzca una mayor ganacia de audiencia. Es decir, si en un determinado partido evaluamos que es mejor repetir horario, entonces se repetirá.\n",
        "\n",
        "- Suponemos (como se dijo en clase) que a lo sumo, podremos repetir 2 veces un mismo horario, es decir que como mucho habrá 1 coincidencia. Para mayores coincidencias, supondremos que no se produce ganancia de audiencia.\n",
        "\n",
        "\n"
      ],
      "metadata": {
        "id": "8z8bCDEhlit_"
      }
    },
    {
      "cell_type": "markdown",
      "source": [
        "Primero definimos los datos proporcionados por el problema. Almacenamos estos datos en diccionarios, ya que nos ayudarán a representar la solución"
      ],
      "metadata": {
        "id": "4kxxVE3cn6Tj"
      }
    },
    {
      "cell_type": "code",
      "source": [
        "import numpy as np"
      ],
      "metadata": {
        "id": "gXi1uLmioNPO"
      },
      "execution_count": 2,
      "outputs": []
    },
    {
      "cell_type": "code",
      "source": [
        "# Deinimos los datos proporcionados por el problema\n",
        "\n",
        "horarios = {\n",
        "    'V20': 0.4,\n",
        "    'S12': 0.55,\n",
        "    'S16': 0.7,\n",
        "    'S18': 0.8,\n",
        "    'S20': 1.0,\n",
        "    'D12': 0.45,\n",
        "    'D16': 0.75,\n",
        "    'D18': 0.85,\n",
        "    'D20': 1.0,\n",
        "    'L20': 0.4\n",
        "}\n",
        "\n",
        "partidos = {\n",
        "    'Celta-Real Madrid': 1.3,\n",
        "    'Valencia-R.Sociedad': 1.3,\n",
        "    'Mallorca-Eibar': 0.47,\n",
        "    'Athletic-Barcelona': 1.3,\n",
        "    'Leganes-Osasuna': 0.47,\n",
        "    'Villareal-Granada': 0.75,\n",
        "    'Alaves-Levante': 0.9,\n",
        "    'Espanyol-Sevilla': 0.9,\n",
        "    'Betis-Valladolid': 0.75,\n",
        "    'Atletico-Getafe': 0.9\n",
        "}\n",
        "\n",
        "resta_repeticion = np.array([0, 0.25, 0.45, 0.60, 0.70, 0.75, 0.78, 0.80, 0.80])\n",
        "ponderacion_coincidencias = 1 - resta_repeticion\n"
      ],
      "metadata": {
        "id": "s4zLP0TJmBJE"
      },
      "execution_count": 3,
      "outputs": []
    },
    {
      "cell_type": "markdown",
      "source": [
        "A continuación se presenta el código del algortimo"
      ],
      "metadata": {
        "id": "oVWI973eogpw"
      }
    },
    {
      "cell_type": "code",
      "source": [
        "def asignacion_partidos(partidos, horarios, return_print=False):\n",
        "  '''\n",
        "  Args:\n",
        "    partidos (dict): diccionario cuyas claves son los partidos de la jornada y valores son las audiencias base\n",
        "    horarios (dict): diccionario cuyas claves son los horarios disponibles y valores son la ponderación al asignar dicho horario\n",
        "    return_print (bool): si True devuelve impresiones acerca de la resolución del problema\n",
        "\n",
        "  Returns:\n",
        "    solucion (array): vector cuyo elemento solucion[i] es la hora a la que se le asigna el partido i\n",
        "    AUDIENCIA (float): valor de la audiencia máxima\n",
        "  '''\n",
        "\n",
        "  audiencia_base = list(partidos.values())\n",
        "  ponderacion_horarios = list(horarios.values())\n",
        "\n",
        "  n = len(partidos)\n",
        "  m = len(horarios)\n",
        "\n",
        "  # coincidencias de partidos permitidas\n",
        "  coincidencias = 1\n",
        "  n_partidos_repetidos = coincidencias + 1\n",
        "\n",
        "  #inicializar audiencias\n",
        "  audiencias_asignacion_iesima = [0]*n\n",
        "  audiencia_final = [0]*n\n",
        "  audiencias_iniciales = [0]*n\n",
        "\n",
        "  # inicializar horas y solucion\n",
        "  horas = [h for h in range(m)]\n",
        "  conteo_horas = [0]*m\n",
        "  solucion = [-1]*n\n",
        "\n",
        "  # ordeno los índices de los partidos desde el que tiene mayor audiencia al que tiene menos\n",
        "  indices_mejores_partidos = np.argsort(audiencia_base)[::-1]\n",
        "\n",
        "  # formato del print\n",
        "  if return_print:\n",
        "    np.set_printoptions(formatter={'float_kind': lambda x: f\"{x:.2f}\"})\n",
        "\n",
        "\n",
        "  for i in indices_mejores_partidos:\n",
        "\n",
        "    # horarios disponibles, los que no superen el límite de repeticiones\n",
        "    horarios_disponibles = [h for h in horas if conteo_horas[h]<2]\n",
        "\n",
        "    if return_print:\n",
        "      print(f'Asignación partido {i}.  Horarios disponibles: {horarios_disponibles}')\n",
        "      print('-----------------------')\n",
        "\n",
        "\n",
        "    for h in horarios_disponibles:\n",
        "\n",
        "      # Si la hora se repite\n",
        "      if h in solucion:\n",
        "\n",
        "        # partido donde se repite la hora\n",
        "        index  = np.where(np.array(solucion) == h)[0][0] #solo sirve para 2 repeticiones\n",
        "\n",
        "        # corrijo audiencias para esa hora repetida\n",
        "        audiencia_provisional = np.copy(audiencias_asignacion_iesima)\n",
        "\n",
        "        audiencia_provisional[i] = 0.75 * audiencia_base[i]*ponderacion_horarios[h]\n",
        "        audiencia_provisional[index] = 0.75 * audiencia_base[index]*ponderacion_horarios[h]\n",
        "\n",
        "        if return_print:\n",
        "          print(f'Hora {h} (se repite): Audiencia {audiencia_provisional}. Audiencia repitiendo: {sum(audiencia_provisional)} - audiencia sin repetir: {sum(audiencias_iniciales)}')\n",
        "\n",
        "        # si las audiencias mejoran al repetir horario\n",
        "        if sum(audiencia_provisional) > sum(audiencias_iniciales):\n",
        "          indice_hora_max = h # me quedo con la mejor hora\n",
        "          audiencias_iniciales = np.copy(audiencia_provisional)\n",
        "\n",
        "      else:\n",
        "        # si no se repite le asigno su ponderacion de horario sin penalizacion por coincidencia\n",
        "        audiencias_asignacion_iesima[i] = audiencia_base[i]*ponderacion_horarios[h]\n",
        "\n",
        "        if return_print:\n",
        "          print(f'Hora {h}: Audiencia resultante  {np.round(audiencias_asignacion_iesima,2)}. Mejor audiencia hasta el momento {np.round(audiencias_iniciales,2)}')\n",
        "\n",
        "\n",
        "      # Si la audiencia es mejor, entonces me quedo con esa asignacion\n",
        "      if sum(audiencias_asignacion_iesima) > sum(audiencias_iniciales):\n",
        "        indice_hora_max = h # me quedo con la mejor hora\n",
        "        audiencias_iniciales = np.copy(audiencias_asignacion_iesima)\n",
        "\n",
        "\n",
        "\n",
        "\n",
        "    # Guardo resultados con la mejor hora encontrada\n",
        "    audiencia_final[i] = audiencia_base[i]*ponderacion_horarios[indice_hora_max]\n",
        "    conteo_horas[indice_hora_max] += 1\n",
        "    solucion[i] = indice_hora_max\n",
        "\n",
        "    audiencias_asignacion_iesima = np.copy(audiencia_final) # actualizo la asignacion\n",
        "\n",
        "\n",
        "    if return_print:\n",
        "      print(f'*** Mejor hora encontrada: {indice_hora_max}.')\n",
        "      print(f'Solución parcial: {solucion} (-1 = no se ha asignado hora)')\n",
        "      print(f'Audiencia al terminar asignación de partido {i}:', audiencia_final)\n",
        "      print()\n",
        "\n",
        "\n",
        "  AUDIENCIA = sum(audiencia_final)\n",
        "  if return_print:\n",
        "    print('****************Solucion Final **********')\n",
        "    print(solucion)\n",
        "    print(f'Audiencia_final', AUDIENCIA)\n",
        "\n",
        "\n",
        "  return solucion, AUDIENCIA\n",
        "\n",
        "\n",
        "\n"
      ],
      "metadata": {
        "id": "wyReInN4oliD"
      },
      "execution_count": 17,
      "outputs": []
    },
    {
      "cell_type": "markdown",
      "source": [
        "Ejecutamos el algortimo usando como entrada los partidos y los horarios del problema propuesto"
      ],
      "metadata": {
        "id": "zBC5nsAPqsvD"
      }
    },
    {
      "cell_type": "code",
      "source": [
        "SOLUCION, AUDIENCIA = asignacion_partidos(partidos, horarios)\n",
        "\n",
        "print(f'La solución encontrada es {SOLUCION}, cuya audiencia es {AUDIENCIA}.')\n",
        "print('O dicho de otro modo:')\n",
        "\n",
        "for i in range(len(SOLUCION)):\n",
        "  print(f'Asignar al partido {list(partidos.keys())[i]} el horario {list(horarios.keys())[SOLUCION[i]]}.')\n"
      ],
      "metadata": {
        "colab": {
          "base_uri": "https://localhost:8080/",
          "height": 0
        },
        "id": "mnh7dqutoq4Q",
        "outputId": "ccbc791a-3d1f-4e11-ee1c-9f9538743777"
      },
      "execution_count": 15,
      "outputs": [
        {
          "output_type": "stream",
          "name": "stdout",
          "text": [
            "La solución encontrada es [4, 8, 9, 7, 0, 5, 6, 2, 1, 3], cuya audiencia es 6.856.\n",
            "O dicho de otro modo:\n",
            "Asignar al partido Celta-Real Madrid el horario S20.\n",
            "Asignar al partido Valencia-R.Sociedad el horario D20.\n",
            "Asignar al partido Mallorca-Eibar el horario L20.\n",
            "Asignar al partido Athletic-Barcelona el horario D18.\n",
            "Asignar al partido Leganes-Osasuna el horario V20.\n",
            "Asignar al partido Villareal-Granada el horario D12.\n",
            "Asignar al partido Alaves-Levante el horario D16.\n",
            "Asignar al partido Espanyol-Sevilla el horario S16.\n",
            "Asignar al partido Betis-Valladolid el horario S12.\n",
            "Asignar al partido Atletico-Getafe el horario S18.\n"
          ]
        }
      ]
    },
    {
      "cell_type": "markdown",
      "source": [
        "Una manera de comprobar lo que hace internamente el algoritmo, es especificando `return_print=True` como parámetro de entrada."
      ],
      "metadata": {
        "id": "WGPGobBrscMg"
      }
    },
    {
      "cell_type": "code",
      "source": [
        "asignacion_partidos(partidos, horarios, return_print=True)"
      ],
      "metadata": {
        "colab": {
          "base_uri": "https://localhost:8080/",
          "height": 0
        },
        "id": "O1sm8B0sqFdw",
        "outputId": "ba03bd9c-befe-4352-cfa0-4bb93d10dae3"
      },
      "execution_count": 18,
      "outputs": [
        {
          "output_type": "stream",
          "name": "stdout",
          "text": [
            "Asignación partido 0.  Horarios disponibles: [0, 1, 2, 3, 4, 5, 6, 7, 8, 9]\n",
            "-----------------------\n",
            "Hora 0: Audiencia resultante  [0.52 0.00 0.00 0.00 0.00 0.00 0.00 0.00 0.00 0.00]. Mejor audiencia hasta el momento [0 0 0 0 0 0 0 0 0 0]\n",
            "Hora 1: Audiencia resultante  [0.72 0.00 0.00 0.00 0.00 0.00 0.00 0.00 0.00 0.00]. Mejor audiencia hasta el momento [0.52 0.00 0.00 0.00 0.00 0.00 0.00 0.00 0.00 0.00]\n",
            "Hora 2: Audiencia resultante  [0.91 0.00 0.00 0.00 0.00 0.00 0.00 0.00 0.00 0.00]. Mejor audiencia hasta el momento [0.72 0.00 0.00 0.00 0.00 0.00 0.00 0.00 0.00 0.00]\n",
            "Hora 3: Audiencia resultante  [1.04 0.00 0.00 0.00 0.00 0.00 0.00 0.00 0.00 0.00]. Mejor audiencia hasta el momento [0.91 0.00 0.00 0.00 0.00 0.00 0.00 0.00 0.00 0.00]\n",
            "Hora 4: Audiencia resultante  [1.30 0.00 0.00 0.00 0.00 0.00 0.00 0.00 0.00 0.00]. Mejor audiencia hasta el momento [1.04 0.00 0.00 0.00 0.00 0.00 0.00 0.00 0.00 0.00]\n",
            "Hora 5: Audiencia resultante  [0.59 0.00 0.00 0.00 0.00 0.00 0.00 0.00 0.00 0.00]. Mejor audiencia hasta el momento [1.30 0.00 0.00 0.00 0.00 0.00 0.00 0.00 0.00 0.00]\n",
            "Hora 6: Audiencia resultante  [0.98 0.00 0.00 0.00 0.00 0.00 0.00 0.00 0.00 0.00]. Mejor audiencia hasta el momento [1.30 0.00 0.00 0.00 0.00 0.00 0.00 0.00 0.00 0.00]\n",
            "Hora 7: Audiencia resultante  [1.10 0.00 0.00 0.00 0.00 0.00 0.00 0.00 0.00 0.00]. Mejor audiencia hasta el momento [1.30 0.00 0.00 0.00 0.00 0.00 0.00 0.00 0.00 0.00]\n",
            "Hora 8: Audiencia resultante  [1.30 0.00 0.00 0.00 0.00 0.00 0.00 0.00 0.00 0.00]. Mejor audiencia hasta el momento [1.30 0.00 0.00 0.00 0.00 0.00 0.00 0.00 0.00 0.00]\n",
            "Hora 9: Audiencia resultante  [0.52 0.00 0.00 0.00 0.00 0.00 0.00 0.00 0.00 0.00]. Mejor audiencia hasta el momento [1.30 0.00 0.00 0.00 0.00 0.00 0.00 0.00 0.00 0.00]\n",
            "*** Mejor hora encontrada: 4.\n",
            "Solución parcial: [4, -1, -1, -1, -1, -1, -1, -1, -1, -1] (-1 = no se ha asignado hora)\n",
            "Audiencia al terminar asignación de partido 0: [1.3, 0, 0, 0, 0, 0, 0, 0, 0, 0]\n",
            "\n",
            "Asignación partido 1.  Horarios disponibles: [0, 1, 2, 3, 4, 5, 6, 7, 8, 9]\n",
            "-----------------------\n",
            "Hora 0: Audiencia resultante  [1.30 0.52 0.00 0.00 0.00 0.00 0.00 0.00 0.00 0.00]. Mejor audiencia hasta el momento [1.30 0.00 0.00 0.00 0.00 0.00 0.00 0.00 0.00 0.00]\n",
            "Hora 1: Audiencia resultante  [1.30 0.72 0.00 0.00 0.00 0.00 0.00 0.00 0.00 0.00]. Mejor audiencia hasta el momento [1.30 0.52 0.00 0.00 0.00 0.00 0.00 0.00 0.00 0.00]\n",
            "Hora 2: Audiencia resultante  [1.30 0.91 0.00 0.00 0.00 0.00 0.00 0.00 0.00 0.00]. Mejor audiencia hasta el momento [1.30 0.72 0.00 0.00 0.00 0.00 0.00 0.00 0.00 0.00]\n",
            "Hora 3: Audiencia resultante  [1.30 1.04 0.00 0.00 0.00 0.00 0.00 0.00 0.00 0.00]. Mejor audiencia hasta el momento [1.30 0.91 0.00 0.00 0.00 0.00 0.00 0.00 0.00 0.00]\n",
            "Hora 4 (se repite): Audiencia [0.98 0.98 0.00 0.00 0.00 0.00 0.00 0.00 0.00 0.00]. Audiencia repitiendo: 1.9500000000000002 - audiencia sin repetir: 2.34\n",
            "Hora 5: Audiencia resultante  [1.30 0.59 0.00 0.00 0.00 0.00 0.00 0.00 0.00 0.00]. Mejor audiencia hasta el momento [1.30 1.04 0.00 0.00 0.00 0.00 0.00 0.00 0.00 0.00]\n",
            "Hora 6: Audiencia resultante  [1.30 0.98 0.00 0.00 0.00 0.00 0.00 0.00 0.00 0.00]. Mejor audiencia hasta el momento [1.30 1.04 0.00 0.00 0.00 0.00 0.00 0.00 0.00 0.00]\n",
            "Hora 7: Audiencia resultante  [1.30 1.10 0.00 0.00 0.00 0.00 0.00 0.00 0.00 0.00]. Mejor audiencia hasta el momento [1.30 1.04 0.00 0.00 0.00 0.00 0.00 0.00 0.00 0.00]\n",
            "Hora 8: Audiencia resultante  [1.30 1.30 0.00 0.00 0.00 0.00 0.00 0.00 0.00 0.00]. Mejor audiencia hasta el momento [1.30 1.10 0.00 0.00 0.00 0.00 0.00 0.00 0.00 0.00]\n",
            "Hora 9: Audiencia resultante  [1.30 0.52 0.00 0.00 0.00 0.00 0.00 0.00 0.00 0.00]. Mejor audiencia hasta el momento [1.30 1.30 0.00 0.00 0.00 0.00 0.00 0.00 0.00 0.00]\n",
            "*** Mejor hora encontrada: 8.\n",
            "Solución parcial: [4, 8, -1, -1, -1, -1, -1, -1, -1, -1] (-1 = no se ha asignado hora)\n",
            "Audiencia al terminar asignación de partido 1: [1.3, 1.3, 0, 0, 0, 0, 0, 0, 0, 0]\n",
            "\n",
            "Asignación partido 3.  Horarios disponibles: [0, 1, 2, 3, 4, 5, 6, 7, 8, 9]\n",
            "-----------------------\n",
            "Hora 0: Audiencia resultante  [1.30 1.30 0.00 0.52 0.00 0.00 0.00 0.00 0.00 0.00]. Mejor audiencia hasta el momento [1.30 1.30 0.00 0.00 0.00 0.00 0.00 0.00 0.00 0.00]\n",
            "Hora 1: Audiencia resultante  [1.30 1.30 0.00 0.72 0.00 0.00 0.00 0.00 0.00 0.00]. Mejor audiencia hasta el momento [1.30 1.30 0.00 0.52 0.00 0.00 0.00 0.00 0.00 0.00]\n",
            "Hora 2: Audiencia resultante  [1.30 1.30 0.00 0.91 0.00 0.00 0.00 0.00 0.00 0.00]. Mejor audiencia hasta el momento [1.30 1.30 0.00 0.72 0.00 0.00 0.00 0.00 0.00 0.00]\n",
            "Hora 3: Audiencia resultante  [1.30 1.30 0.00 1.04 0.00 0.00 0.00 0.00 0.00 0.00]. Mejor audiencia hasta el momento [1.30 1.30 0.00 0.91 0.00 0.00 0.00 0.00 0.00 0.00]\n",
            "Hora 4 (se repite): Audiencia [0.98 1.30 0.00 0.98 0.00 0.00 0.00 0.00 0.00 0.00]. Audiencia repitiendo: 3.2500000000000004 - audiencia sin repetir: 3.64\n",
            "Hora 5: Audiencia resultante  [1.30 1.30 0.00 0.59 0.00 0.00 0.00 0.00 0.00 0.00]. Mejor audiencia hasta el momento [1.30 1.30 0.00 1.04 0.00 0.00 0.00 0.00 0.00 0.00]\n",
            "Hora 6: Audiencia resultante  [1.30 1.30 0.00 0.98 0.00 0.00 0.00 0.00 0.00 0.00]. Mejor audiencia hasta el momento [1.30 1.30 0.00 1.04 0.00 0.00 0.00 0.00 0.00 0.00]\n",
            "Hora 7: Audiencia resultante  [1.30 1.30 0.00 1.10 0.00 0.00 0.00 0.00 0.00 0.00]. Mejor audiencia hasta el momento [1.30 1.30 0.00 1.04 0.00 0.00 0.00 0.00 0.00 0.00]\n",
            "Hora 8 (se repite): Audiencia [1.30 0.98 0.00 0.98 0.00 0.00 0.00 0.00 0.00 0.00]. Audiencia repitiendo: 3.2500000000000004 - audiencia sin repetir: 3.705\n",
            "Hora 9: Audiencia resultante  [1.30 1.30 0.00 0.52 0.00 0.00 0.00 0.00 0.00 0.00]. Mejor audiencia hasta el momento [1.30 1.30 0.00 1.10 0.00 0.00 0.00 0.00 0.00 0.00]\n",
            "*** Mejor hora encontrada: 7.\n",
            "Solución parcial: [4, 8, -1, 7, -1, -1, -1, -1, -1, -1] (-1 = no se ha asignado hora)\n",
            "Audiencia al terminar asignación de partido 3: [1.3, 1.3, 0, 1.105, 0, 0, 0, 0, 0, 0]\n",
            "\n",
            "Asignación partido 9.  Horarios disponibles: [0, 1, 2, 3, 4, 5, 6, 7, 8, 9]\n",
            "-----------------------\n",
            "Hora 0: Audiencia resultante  [1.30 1.30 0.00 1.10 0.00 0.00 0.00 0.00 0.00 0.36]. Mejor audiencia hasta el momento [1.30 1.30 0.00 1.10 0.00 0.00 0.00 0.00 0.00 0.00]\n",
            "Hora 1: Audiencia resultante  [1.30 1.30 0.00 1.10 0.00 0.00 0.00 0.00 0.00 0.50]. Mejor audiencia hasta el momento [1.30 1.30 0.00 1.10 0.00 0.00 0.00 0.00 0.00 0.36]\n",
            "Hora 2: Audiencia resultante  [1.30 1.30 0.00 1.10 0.00 0.00 0.00 0.00 0.00 0.63]. Mejor audiencia hasta el momento [1.30 1.30 0.00 1.10 0.00 0.00 0.00 0.00 0.00 0.50]\n",
            "Hora 3: Audiencia resultante  [1.30 1.30 0.00 1.10 0.00 0.00 0.00 0.00 0.00 0.72]. Mejor audiencia hasta el momento [1.30 1.30 0.00 1.10 0.00 0.00 0.00 0.00 0.00 0.63]\n",
            "Hora 4 (se repite): Audiencia [0.98 1.30 0.00 1.10 0.00 0.00 0.00 0.00 0.00 0.68]. Audiencia repitiendo: 4.055000000000001 - audiencia sin repetir: 4.425\n",
            "Hora 5: Audiencia resultante  [1.30 1.30 0.00 1.10 0.00 0.00 0.00 0.00 0.00 0.40]. Mejor audiencia hasta el momento [1.30 1.30 0.00 1.10 0.00 0.00 0.00 0.00 0.00 0.72]\n",
            "Hora 6: Audiencia resultante  [1.30 1.30 0.00 1.10 0.00 0.00 0.00 0.00 0.00 0.68]. Mejor audiencia hasta el momento [1.30 1.30 0.00 1.10 0.00 0.00 0.00 0.00 0.00 0.72]\n",
            "Hora 7 (se repite): Audiencia [1.30 1.30 0.00 0.83 0.00 0.00 0.00 0.00 0.00 0.57]. Audiencia repitiendo: 4.0024999999999995 - audiencia sin repetir: 4.425\n",
            "Hora 8 (se repite): Audiencia [1.30 0.98 0.00 1.10 0.00 0.00 0.00 0.00 0.00 0.68]. Audiencia repitiendo: 4.055000000000001 - audiencia sin repetir: 4.425\n",
            "Hora 9: Audiencia resultante  [1.30 1.30 0.00 1.10 0.00 0.00 0.00 0.00 0.00 0.36]. Mejor audiencia hasta el momento [1.30 1.30 0.00 1.10 0.00 0.00 0.00 0.00 0.00 0.72]\n",
            "*** Mejor hora encontrada: 3.\n",
            "Solución parcial: [4, 8, -1, 7, -1, -1, -1, -1, -1, 3] (-1 = no se ha asignado hora)\n",
            "Audiencia al terminar asignación de partido 9: [1.3, 1.3, 0, 1.105, 0, 0, 0, 0, 0, 0.7200000000000001]\n",
            "\n",
            "Asignación partido 6.  Horarios disponibles: [0, 1, 2, 3, 4, 5, 6, 7, 8, 9]\n",
            "-----------------------\n",
            "Hora 0: Audiencia resultante  [1.30 1.30 0.00 1.10 0.00 0.00 0.36 0.00 0.00 0.72]. Mejor audiencia hasta el momento [1.30 1.30 0.00 1.10 0.00 0.00 0.00 0.00 0.00 0.72]\n",
            "Hora 1: Audiencia resultante  [1.30 1.30 0.00 1.10 0.00 0.00 0.50 0.00 0.00 0.72]. Mejor audiencia hasta el momento [1.30 1.30 0.00 1.10 0.00 0.00 0.36 0.00 0.00 0.72]\n",
            "Hora 2: Audiencia resultante  [1.30 1.30 0.00 1.10 0.00 0.00 0.63 0.00 0.00 0.72]. Mejor audiencia hasta el momento [1.30 1.30 0.00 1.10 0.00 0.00 0.50 0.00 0.00 0.72]\n",
            "Hora 3 (se repite): Audiencia [1.30 1.30 0.00 1.10 0.00 0.00 0.54 0.00 0.00 0.54]. Audiencia repitiendo: 4.785 - audiencia sin repetir: 5.055\n",
            "Hora 4 (se repite): Audiencia [0.98 1.30 0.00 1.10 0.00 0.00 0.68 0.00 0.00 0.72]. Audiencia repitiendo: 4.775 - audiencia sin repetir: 5.055\n",
            "Hora 5: Audiencia resultante  [1.30 1.30 0.00 1.10 0.00 0.00 0.40 0.00 0.00 0.72]. Mejor audiencia hasta el momento [1.30 1.30 0.00 1.10 0.00 0.00 0.63 0.00 0.00 0.72]\n",
            "Hora 6: Audiencia resultante  [1.30 1.30 0.00 1.10 0.00 0.00 0.68 0.00 0.00 0.72]. Mejor audiencia hasta el momento [1.30 1.30 0.00 1.10 0.00 0.00 0.63 0.00 0.00 0.72]\n",
            "Hora 7 (se repite): Audiencia [1.30 1.30 0.00 0.83 0.00 0.00 0.57 0.00 0.00 0.72]. Audiencia repitiendo: 4.722499999999999 - audiencia sin repetir: 5.1\n",
            "Hora 8 (se repite): Audiencia [1.30 0.98 0.00 1.10 0.00 0.00 0.68 0.00 0.00 0.72]. Audiencia repitiendo: 4.775 - audiencia sin repetir: 5.1\n",
            "Hora 9: Audiencia resultante  [1.30 1.30 0.00 1.10 0.00 0.00 0.36 0.00 0.00 0.72]. Mejor audiencia hasta el momento [1.30 1.30 0.00 1.10 0.00 0.00 0.68 0.00 0.00 0.72]\n",
            "*** Mejor hora encontrada: 6.\n",
            "Solución parcial: [4, 8, -1, 7, -1, -1, 6, -1, -1, 3] (-1 = no se ha asignado hora)\n",
            "Audiencia al terminar asignación de partido 6: [1.3, 1.3, 0, 1.105, 0, 0, 0.675, 0, 0, 0.7200000000000001]\n",
            "\n",
            "Asignación partido 7.  Horarios disponibles: [0, 1, 2, 3, 4, 5, 6, 7, 8, 9]\n",
            "-----------------------\n",
            "Hora 0: Audiencia resultante  [1.30 1.30 0.00 1.10 0.00 0.00 0.68 0.36 0.00 0.72]. Mejor audiencia hasta el momento [1.30 1.30 0.00 1.10 0.00 0.00 0.68 0.00 0.00 0.72]\n",
            "Hora 1: Audiencia resultante  [1.30 1.30 0.00 1.10 0.00 0.00 0.68 0.50 0.00 0.72]. Mejor audiencia hasta el momento [1.30 1.30 0.00 1.10 0.00 0.00 0.68 0.36 0.00 0.72]\n",
            "Hora 2: Audiencia resultante  [1.30 1.30 0.00 1.10 0.00 0.00 0.68 0.63 0.00 0.72]. Mejor audiencia hasta el momento [1.30 1.30 0.00 1.10 0.00 0.00 0.68 0.50 0.00 0.72]\n",
            "Hora 3 (se repite): Audiencia [1.30 1.30 0.00 1.10 0.00 0.00 0.68 0.54 0.00 0.54]. Audiencia repitiendo: 5.46 - audiencia sin repetir: 5.7299999999999995\n",
            "Hora 4 (se repite): Audiencia [0.98 1.30 0.00 1.10 0.00 0.00 0.68 0.68 0.00 0.72]. Audiencia repitiendo: 5.45 - audiencia sin repetir: 5.7299999999999995\n",
            "Hora 5: Audiencia resultante  [1.30 1.30 0.00 1.10 0.00 0.00 0.68 0.40 0.00 0.72]. Mejor audiencia hasta el momento [1.30 1.30 0.00 1.10 0.00 0.00 0.68 0.63 0.00 0.72]\n",
            "Hora 6 (se repite): Audiencia [1.30 1.30 0.00 1.10 0.00 0.00 0.51 0.51 0.00 0.72]. Audiencia repitiendo: 5.437499999999999 - audiencia sin repetir: 5.7299999999999995\n",
            "Hora 7 (se repite): Audiencia [1.30 1.30 0.00 0.83 0.00 0.00 0.68 0.57 0.00 0.72]. Audiencia repitiendo: 5.3975 - audiencia sin repetir: 5.7299999999999995\n",
            "Hora 8 (se repite): Audiencia [1.30 0.98 0.00 1.10 0.00 0.00 0.68 0.68 0.00 0.72]. Audiencia repitiendo: 5.45 - audiencia sin repetir: 5.7299999999999995\n",
            "Hora 9: Audiencia resultante  [1.30 1.30 0.00 1.10 0.00 0.00 0.68 0.36 0.00 0.72]. Mejor audiencia hasta el momento [1.30 1.30 0.00 1.10 0.00 0.00 0.68 0.63 0.00 0.72]\n",
            "*** Mejor hora encontrada: 2.\n",
            "Solución parcial: [4, 8, -1, 7, -1, -1, 6, 2, -1, 3] (-1 = no se ha asignado hora)\n",
            "Audiencia al terminar asignación de partido 7: [1.3, 1.3, 0, 1.105, 0, 0, 0.675, 0.63, 0, 0.7200000000000001]\n",
            "\n",
            "Asignación partido 8.  Horarios disponibles: [0, 1, 2, 3, 4, 5, 6, 7, 8, 9]\n",
            "-----------------------\n",
            "Hora 0: Audiencia resultante  [1.30 1.30 0.00 1.10 0.00 0.00 0.68 0.63 0.30 0.72]. Mejor audiencia hasta el momento [1.30 1.30 0.00 1.10 0.00 0.00 0.68 0.63 0.00 0.72]\n",
            "Hora 1: Audiencia resultante  [1.30 1.30 0.00 1.10 0.00 0.00 0.68 0.63 0.41 0.72]. Mejor audiencia hasta el momento [1.30 1.30 0.00 1.10 0.00 0.00 0.68 0.63 0.30 0.72]\n",
            "Hora 2 (se repite): Audiencia [1.30 1.30 0.00 1.10 0.00 0.00 0.68 0.47 0.39 0.72]. Audiencia repitiendo: 5.96625 - audiencia sin repetir: 6.142499999999999\n",
            "Hora 3 (se repite): Audiencia [1.30 1.30 0.00 1.10 0.00 0.00 0.68 0.63 0.45 0.54]. Audiencia repitiendo: 6.0 - audiencia sin repetir: 6.142499999999999\n",
            "Hora 4 (se repite): Audiencia [0.98 1.30 0.00 1.10 0.00 0.00 0.68 0.63 0.56 0.72]. Audiencia repitiendo: 5.9675 - audiencia sin repetir: 6.142499999999999\n",
            "Hora 5: Audiencia resultante  [1.30 1.30 0.00 1.10 0.00 0.00 0.68 0.63 0.34 0.72]. Mejor audiencia hasta el momento [1.30 1.30 0.00 1.10 0.00 0.00 0.68 0.63 0.41 0.72]\n",
            "Hora 6 (se repite): Audiencia [1.30 1.30 0.00 1.10 0.00 0.00 0.51 0.63 0.42 0.72]. Audiencia repitiendo: 5.983124999999999 - audiencia sin repetir: 6.142499999999999\n",
            "Hora 7 (se repite): Audiencia [1.30 1.30 0.00 0.83 0.00 0.00 0.68 0.63 0.48 0.72]. Audiencia repitiendo: 5.931875 - audiencia sin repetir: 6.142499999999999\n",
            "Hora 8 (se repite): Audiencia [1.30 0.98 0.00 1.10 0.00 0.00 0.68 0.63 0.56 0.72]. Audiencia repitiendo: 5.9675 - audiencia sin repetir: 6.142499999999999\n",
            "Hora 9: Audiencia resultante  [1.30 1.30 0.00 1.10 0.00 0.00 0.68 0.63 0.30 0.72]. Mejor audiencia hasta el momento [1.30 1.30 0.00 1.10 0.00 0.00 0.68 0.63 0.41 0.72]\n",
            "*** Mejor hora encontrada: 1.\n",
            "Solución parcial: [4, 8, -1, 7, -1, -1, 6, 2, 1, 3] (-1 = no se ha asignado hora)\n",
            "Audiencia al terminar asignación de partido 8: [1.3, 1.3, 0, 1.105, 0, 0, 0.675, 0.63, 0.41250000000000003, 0.7200000000000001]\n",
            "\n",
            "Asignación partido 5.  Horarios disponibles: [0, 1, 2, 3, 4, 5, 6, 7, 8, 9]\n",
            "-----------------------\n",
            "Hora 0: Audiencia resultante  [1.30 1.30 0.00 1.10 0.00 0.30 0.68 0.63 0.41 0.72]. Mejor audiencia hasta el momento [1.30 1.30 0.00 1.10 0.00 0.00 0.68 0.63 0.41 0.72]\n",
            "Hora 1 (se repite): Audiencia [1.30 1.30 0.00 1.10 0.00 0.31 0.68 0.63 0.31 0.72]. Audiencia repitiendo: 6.34875 - audiencia sin repetir: 6.442499999999999\n",
            "Hora 2 (se repite): Audiencia [1.30 1.30 0.00 1.10 0.00 0.39 0.68 0.47 0.41 0.72]. Audiencia repitiendo: 6.378749999999999 - audiencia sin repetir: 6.442499999999999\n",
            "Hora 3 (se repite): Audiencia [1.30 1.30 0.00 1.10 0.00 0.45 0.68 0.63 0.41 0.54]. Audiencia repitiendo: 6.4125 - audiencia sin repetir: 6.442499999999999\n",
            "Hora 4 (se repite): Audiencia [0.98 1.30 0.00 1.10 0.00 0.56 0.68 0.63 0.41 0.72]. Audiencia repitiendo: 6.38 - audiencia sin repetir: 6.442499999999999\n",
            "Hora 5: Audiencia resultante  [1.30 1.30 0.00 1.10 0.00 0.34 0.68 0.63 0.41 0.72]. Mejor audiencia hasta el momento [1.30 1.30 0.00 1.10 0.00 0.30 0.68 0.63 0.41 0.72]\n",
            "Hora 6 (se repite): Audiencia [1.30 1.30 0.00 1.10 0.00 0.42 0.51 0.63 0.41 0.72]. Audiencia repitiendo: 6.395624999999999 - audiencia sin repetir: 6.4799999999999995\n",
            "Hora 7 (se repite): Audiencia [1.30 1.30 0.00 0.83 0.00 0.48 0.68 0.63 0.41 0.72]. Audiencia repitiendo: 6.344374999999999 - audiencia sin repetir: 6.4799999999999995\n",
            "Hora 8 (se repite): Audiencia [1.30 0.98 0.00 1.10 0.00 0.56 0.68 0.63 0.41 0.72]. Audiencia repitiendo: 6.38 - audiencia sin repetir: 6.4799999999999995\n",
            "Hora 9: Audiencia resultante  [1.30 1.30 0.00 1.10 0.00 0.30 0.68 0.63 0.41 0.72]. Mejor audiencia hasta el momento [1.30 1.30 0.00 1.10 0.00 0.34 0.68 0.63 0.41 0.72]\n",
            "*** Mejor hora encontrada: 5.\n",
            "Solución parcial: [4, 8, -1, 7, -1, 5, 6, 2, 1, 3] (-1 = no se ha asignado hora)\n",
            "Audiencia al terminar asignación de partido 5: [1.3, 1.3, 0, 1.105, 0, 0.3375, 0.675, 0.63, 0.41250000000000003, 0.7200000000000001]\n",
            "\n",
            "Asignación partido 4.  Horarios disponibles: [0, 1, 2, 3, 4, 5, 6, 7, 8, 9]\n",
            "-----------------------\n",
            "Hora 0: Audiencia resultante  [1.30 1.30 0.00 1.10 0.19 0.34 0.68 0.63 0.41 0.72]. Mejor audiencia hasta el momento [1.30 1.30 0.00 1.10 0.00 0.34 0.68 0.63 0.41 0.72]\n",
            "Hora 1 (se repite): Audiencia [1.30 1.30 0.00 1.10 0.19 0.34 0.68 0.63 0.31 0.72]. Audiencia repitiendo: 6.570749999999999 - audiencia sin repetir: 6.667999999999999\n",
            "Hora 2 (se repite): Audiencia [1.30 1.30 0.00 1.10 0.25 0.34 0.68 0.47 0.41 0.72]. Audiencia repitiendo: 6.569249999999999 - audiencia sin repetir: 6.667999999999999\n",
            "Hora 3 (se repite): Audiencia [1.30 1.30 0.00 1.10 0.28 0.34 0.68 0.63 0.41 0.54]. Audiencia repitiendo: 6.582 - audiencia sin repetir: 6.667999999999999\n",
            "Hora 4 (se repite): Audiencia [0.98 1.30 0.00 1.10 0.35 0.34 0.68 0.63 0.41 0.72]. Audiencia repitiendo: 6.507499999999999 - audiencia sin repetir: 6.667999999999999\n",
            "Hora 5 (se repite): Audiencia [1.30 1.30 0.00 1.10 0.16 0.25 0.68 0.63 0.41 0.72]. Audiencia repitiendo: 6.554249999999999 - audiencia sin repetir: 6.667999999999999\n",
            "Hora 6 (se repite): Audiencia [1.30 1.30 0.00 1.10 0.26 0.34 0.51 0.63 0.41 0.72]. Audiencia repitiendo: 6.575624999999999 - audiencia sin repetir: 6.667999999999999\n",
            "Hora 7 (se repite): Audiencia [1.30 1.30 0.00 0.83 0.30 0.34 0.68 0.63 0.41 0.72]. Audiencia repitiendo: 6.503374999999999 - audiencia sin repetir: 6.667999999999999\n",
            "Hora 8 (se repite): Audiencia [1.30 0.98 0.00 1.10 0.35 0.34 0.68 0.63 0.41 0.72]. Audiencia repitiendo: 6.507499999999999 - audiencia sin repetir: 6.667999999999999\n",
            "Hora 9: Audiencia resultante  [1.30 1.30 0.00 1.10 0.19 0.34 0.68 0.63 0.41 0.72]. Mejor audiencia hasta el momento [1.30 1.30 0.00 1.10 0.19 0.34 0.68 0.63 0.41 0.72]\n",
            "*** Mejor hora encontrada: 0.\n",
            "Solución parcial: [4, 8, -1, 7, 0, 5, 6, 2, 1, 3] (-1 = no se ha asignado hora)\n",
            "Audiencia al terminar asignación de partido 4: [1.3, 1.3, 0, 1.105, 0.188, 0.3375, 0.675, 0.63, 0.41250000000000003, 0.7200000000000001]\n",
            "\n",
            "Asignación partido 2.  Horarios disponibles: [0, 1, 2, 3, 4, 5, 6, 7, 8, 9]\n",
            "-----------------------\n",
            "Hora 0 (se repite): Audiencia [1.30 1.30 0.14 1.10 0.14 0.34 0.68 0.63 0.41 0.72]. Audiencia repitiendo: 6.762 - audiencia sin repetir: 6.667999999999999\n",
            "Hora 1 (se repite): Audiencia [1.30 1.30 0.19 1.10 0.19 0.34 0.68 0.63 0.31 0.72]. Audiencia repitiendo: 6.75875 - audiencia sin repetir: 6.762\n",
            "Hora 2 (se repite): Audiencia [1.30 1.30 0.25 1.10 0.19 0.34 0.68 0.47 0.41 0.72]. Audiencia repitiendo: 6.75725 - audiencia sin repetir: 6.762\n",
            "Hora 3 (se repite): Audiencia [1.30 1.30 0.28 1.10 0.19 0.34 0.68 0.63 0.41 0.54]. Audiencia repitiendo: 6.77 - audiencia sin repetir: 6.762\n",
            "Hora 4 (se repite): Audiencia [0.98 1.30 0.35 1.10 0.19 0.34 0.68 0.63 0.41 0.72]. Audiencia repitiendo: 6.6955 - audiencia sin repetir: 6.77\n",
            "Hora 5 (se repite): Audiencia [1.30 1.30 0.16 1.10 0.19 0.25 0.68 0.63 0.41 0.72]. Audiencia repitiendo: 6.7422499999999985 - audiencia sin repetir: 6.77\n",
            "Hora 6 (se repite): Audiencia [1.30 1.30 0.26 1.10 0.19 0.34 0.51 0.63 0.41 0.72]. Audiencia repitiendo: 6.763624999999999 - audiencia sin repetir: 6.77\n",
            "Hora 7 (se repite): Audiencia [1.30 1.30 0.30 0.83 0.19 0.34 0.68 0.63 0.41 0.72]. Audiencia repitiendo: 6.691374999999999 - audiencia sin repetir: 6.77\n",
            "Hora 8 (se repite): Audiencia [1.30 0.98 0.35 1.10 0.19 0.34 0.68 0.63 0.41 0.72]. Audiencia repitiendo: 6.6955 - audiencia sin repetir: 6.77\n",
            "Hora 9: Audiencia resultante  [1.30 1.30 0.19 1.10 0.19 0.34 0.68 0.63 0.41 0.72]. Mejor audiencia hasta el momento [1.30 1.30 0.28 1.10 0.19 0.34 0.68 0.63 0.41 0.54]\n",
            "*** Mejor hora encontrada: 9.\n",
            "Solución parcial: [4, 8, 9, 7, 0, 5, 6, 2, 1, 3] (-1 = no se ha asignado hora)\n",
            "Audiencia al terminar asignación de partido 2: [1.3, 1.3, 0.188, 1.105, 0.188, 0.3375, 0.675, 0.63, 0.41250000000000003, 0.7200000000000001]\n",
            "\n",
            "****************Solucion Final **********\n",
            "[4, 8, 9, 7, 0, 5, 6, 2, 1, 3]\n",
            "Audiencia_final 6.856\n"
          ]
        },
        {
          "output_type": "execute_result",
          "data": {
            "text/plain": [
              "([4, 8, 9, 7, 0, 5, 6, 2, 1, 3], 6.856)"
            ]
          },
          "metadata": {},
          "execution_count": 18
        }
      ]
    },
    {
      "cell_type": "markdown",
      "source": [
        "Si nos fijamos en lo anterior, podemos ver que el algoritmo repite horario cada vez que puede. Sin embargo, al hacerlo, el resultado de la audiencia no es mayor que cuando no se repite horario."
      ],
      "metadata": {
        "id": "BGXZ9K26s40z"
      }
    },
    {
      "cell_type": "code",
      "source": [],
      "metadata": {
        "id": "GuZNCDOXs0RC"
      },
      "execution_count": null,
      "outputs": []
    }
  ]
}